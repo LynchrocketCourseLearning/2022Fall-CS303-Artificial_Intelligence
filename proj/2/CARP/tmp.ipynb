{
 "cells": [
  {
   "cell_type": "code",
   "execution_count": 1,
   "metadata": {},
   "outputs": [
    {
     "data": {
      "text/plain": [
       "('NAME', 'egl-e1-A')"
      ]
     },
     "execution_count": 1,
     "metadata": {},
     "output_type": "execute_result"
    }
   ],
   "source": [
    "s = 'NAME : egl-e1-A'\n",
    "n, v = s.split(' : ')\n",
    "n, v"
   ]
  },
  {
   "cell_type": "code",
   "execution_count": 2,
   "metadata": {},
   "outputs": [
    {
     "data": {
      "text/plain": [
       "True"
      ]
     },
     "execution_count": 2,
     "metadata": {},
     "output_type": "execute_result"
    }
   ],
   "source": [
    "import numpy as np\n",
    "\n",
    "a = np.inf\n",
    "a == np.inf"
   ]
  },
  {
   "cell_type": "code",
   "execution_count": 3,
   "metadata": {},
   "outputs": [],
   "source": [
    "t = [1,2,3,4,5,6,7,8,9]\n",
    "p = [x for x in t if x >= 6]"
   ]
  },
  {
   "cell_type": "code",
   "execution_count": 4,
   "metadata": {},
   "outputs": [
    {
     "data": {
      "text/plain": [
       "[6, 7, 8, 9]"
      ]
     },
     "execution_count": 4,
     "metadata": {},
     "output_type": "execute_result"
    }
   ],
   "source": [
    "p"
   ]
  },
  {
   "cell_type": "code",
   "execution_count": 7,
   "metadata": {},
   "outputs": [
    {
     "data": {
      "text/plain": [
       "[0, (0, 1), (1, 2)]"
      ]
     },
     "execution_count": 7,
     "metadata": {},
     "output_type": "execute_result"
    }
   ],
   "source": [
    "k = [0]\n",
    "s = [(0,1,3),(1,2,6)]\n",
    "k.extend([(i[0],i[1]) for i in s])\n",
    "k"
   ]
  },
  {
   "cell_type": "code",
   "execution_count": 3,
   "metadata": {},
   "outputs": [
    {
     "data": {
      "text/plain": [
       "'0,(0, 1, 3),(1, 2, 6),0'"
      ]
     },
     "execution_count": 3,
     "metadata": {},
     "output_type": "execute_result"
    }
   ],
   "source": [
    "s = [0,(0,1,3),(1,2,6),0]\n",
    "','.join([str(x) for x in s])"
   ]
  },
  {
   "cell_type": "code",
   "execution_count": 10,
   "metadata": {},
   "outputs": [
    {
     "name": "stdout",
     "output_type": "stream",
     "text": [
      "0,(0, 1, 3),1\n",
      "1,(1, 2, 6),2\n"
     ]
    }
   ],
   "source": [
    "s = [(0,1,3),(1,2,6)]\n",
    "q = [1,2]\n",
    "for i, (j, k) in enumerate(zip(s,q)):\n",
    "    print(i, end=',')\n",
    "    print(j, end=',')\n",
    "    print(k)"
   ]
  },
  {
   "cell_type": "code",
   "execution_count": 7,
   "metadata": {},
   "outputs": [
    {
     "name": "stdout",
     "output_type": "stream",
     "text": [
      "[1, 2, 3]\n",
      "[213, 45, 2]\n",
      "1234.12\n"
     ]
    }
   ],
   "source": [
    "tmp = ([1,2,3], [213,45,2], 1234.12)\n",
    "def new_solution(routes: list, capacity_cost: list, total_cost: float):\n",
    "    print(routes)\n",
    "    print(capacity_cost)\n",
    "    print(total_cost)\n",
    "new_solution(*tmp)"
   ]
  },
  {
   "cell_type": "code",
   "execution_count": 9,
   "metadata": {},
   "outputs": [],
   "source": [
    "tm =  [[1,2,3], [213,45,2], 1234.12]"
   ]
  },
  {
   "cell_type": "code",
   "execution_count": 10,
   "metadata": {},
   "outputs": [
    {
     "data": {
      "text/plain": [
       "[[213, 45, 2]]"
      ]
     },
     "execution_count": 10,
     "metadata": {},
     "output_type": "execute_result"
    }
   ],
   "source": [
    "tm[1:2]"
   ]
  },
  {
   "cell_type": "code",
   "execution_count": 13,
   "metadata": {},
   "outputs": [
    {
     "name": "stdout",
     "output_type": "stream",
     "text": [
      "\"./CARP_samples/egl-e1-A.dat\", \"./CARP_samples/egl-s1-A.dat\", \"./CARP_samples/gdb1.dat\", \"./CARP_samples/gdb10.dat\", \"./CARP_samples/val1A.dat\", \"./CARP_samples/val4A.dat\", \"./CARP_samples/val7A.dat\", "
     ]
    }
   ],
   "source": [
    "import os\n",
    "files = os.listdir('./CARP_samples')\n",
    "for f in files:\n",
    "    print('\"./CARP_samples/'+f+'\"', end=', ')"
   ]
  }
 ],
 "metadata": {
  "kernelspec": {
   "display_name": "Python 3.8.8 ('base')",
   "language": "python",
   "name": "python3"
  },
  "language_info": {
   "codemirror_mode": {
    "name": "ipython",
    "version": 3
   },
   "file_extension": ".py",
   "mimetype": "text/x-python",
   "name": "python",
   "nbconvert_exporter": "python",
   "pygments_lexer": "ipython3",
   "version": "3.8.8"
  },
  "orig_nbformat": 4,
  "vscode": {
   "interpreter": {
    "hash": "5179d32cf6ec497baf3f8a3ef987cc77c5d2dc691fdde20a56316522f61a7323"
   }
  }
 },
 "nbformat": 4,
 "nbformat_minor": 2
}
