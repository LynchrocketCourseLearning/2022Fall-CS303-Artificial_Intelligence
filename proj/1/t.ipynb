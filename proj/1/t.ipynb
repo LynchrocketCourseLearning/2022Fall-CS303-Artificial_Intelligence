{
 "cells": [
  {
   "cell_type": "code",
   "execution_count": 2,
   "metadata": {},
   "outputs": [
    {
     "data": {
      "text/plain": [
       "array([[1, 3],\n",
       "       [1, 1],\n",
       "       [2, 2],\n",
       "       [0, 2],\n",
       "       [2, 3],\n",
       "       [2, 1],\n",
       "       [0, 3],\n",
       "       [0, 1]])"
      ]
     },
     "execution_count": 2,
     "metadata": {},
     "output_type": "execute_result"
    }
   ],
   "source": [
    "import numpy as np\n",
    "DIRECTIONS = np.array([[0,1], [0,-1], [1,0], [-1,0], [1,1], [1,-1], [-1,1], [-1,-1]])\n",
    "COLOR_NONE = 0\n",
    "[1,2]+DIRECTIONS"
   ]
  },
  {
   "cell_type": "code",
   "execution_count": 25,
   "metadata": {},
   "outputs": [
    {
     "data": {
      "text/plain": [
       "-1"
      ]
     },
     "execution_count": 25,
     "metadata": {},
     "output_type": "execute_result"
    }
   ],
   "source": [
    "board = np.array([\n",
    "        [0, 0, 0, 0, 0, 0, 0, 0],\n",
    "        [0, 0, 0, 0, 0, 0, 0, 0],\n",
    "        [0, 0, 0, 0, 0, 0, 0, 0],\n",
    "        [0, 0, 0, -1, 1, 0, 0, 0],\n",
    "        [0, 0, 0, 1, -1, 0, 0, 0],\n",
    "        [0, 0, 0, 0, 0, 0, 0, 0],\n",
    "        [0, 0, 0, 0, 0, 0, 0, 0],\n",
    "        [0, 0, 0, 0, 0, 0, 0, 0]\n",
    "    ])\n",
    "board[3,3]"
   ]
  },
  {
   "cell_type": "code",
   "execution_count": 11,
   "metadata": {},
   "outputs": [],
   "source": [
    "import numpy as np\n",
    "def flip_chess(chessboard: np.ndarray, color, pos) -> None:\n",
    "    in_chessboard = (lambda idx: (idx[0] in range(len(chessboard)) and idx[1] in range(len(chessboard))))\n",
    "    \n",
    "    chesses = np.argwhere((chessboard==color))\n",
    "    chess_to_flip = []\n",
    "    for chess in chesses:\n",
    "        dis = pos - chess\n",
    "        cur = chess\n",
    "        if dis[0] != 0 and dis[1] != 0:\n",
    "            if abs(dis[0]) != abs(dis[1]):\n",
    "                continue\n",
    "        tmp_flip = []\n",
    "        times = abs(dis[0]) if dis[0] != 0 else abs(dis[1])\n",
    "        step = dis // times\n",
    "        for i in range(1, times+1):\n",
    "            tmp_flip.append(i*step + cur)\n",
    "        if len(tmp_flip) > 0:\n",
    "            chess_to_flip.append(tmp_flip)\n",
    "    \n",
    "    for flip_list in chess_to_flip:\n",
    "        for chess_pos in flip_list:\n",
    "            chessboard[chess_pos[0], chess_pos[1]] = color"
   ]
  },
  {
   "cell_type": "code",
   "execution_count": 7,
   "metadata": {},
   "outputs": [
    {
     "data": {
      "text/plain": [
       "array([1, 1], dtype=int32)"
      ]
     },
     "execution_count": 7,
     "metadata": {},
     "output_type": "execute_result"
    }
   ],
   "source": [
    "a = np.array([3,4])\n",
    "b = np.array([1,2])\n",
    "(a-b)//2"
   ]
  },
  {
   "cell_type": "code",
   "execution_count": 2,
   "metadata": {},
   "outputs": [
    {
     "ename": "NameError",
     "evalue": "name 'flip_chess' is not defined",
     "output_type": "error",
     "traceback": [
      "\u001b[1;31m---------------------------------------------------------------------------\u001b[0m",
      "\u001b[1;31mNameError\u001b[0m                                 Traceback (most recent call last)",
      "\u001b[1;32m<ipython-input-2-4c0743e76277>\u001b[0m in \u001b[0;36m<module>\u001b[1;34m\u001b[0m\n\u001b[0;32m      9\u001b[0m         \u001b[1;33m[\u001b[0m\u001b[1;36m0\u001b[0m\u001b[1;33m,\u001b[0m \u001b[1;36m0\u001b[0m\u001b[1;33m,\u001b[0m \u001b[1;36m0\u001b[0m\u001b[1;33m,\u001b[0m \u001b[1;36m0\u001b[0m\u001b[1;33m,\u001b[0m \u001b[1;36m0\u001b[0m\u001b[1;33m,\u001b[0m \u001b[1;36m0\u001b[0m\u001b[1;33m,\u001b[0m \u001b[1;36m0\u001b[0m\u001b[1;33m,\u001b[0m \u001b[1;36m0\u001b[0m\u001b[1;33m]\u001b[0m\u001b[1;33m\u001b[0m\u001b[1;33m\u001b[0m\u001b[0m\n\u001b[0;32m     10\u001b[0m     ])\n\u001b[1;32m---> 11\u001b[1;33m \u001b[0mflip_chess\u001b[0m\u001b[1;33m(\u001b[0m\u001b[0mboard\u001b[0m\u001b[1;33m,\u001b[0m \u001b[1;36m1\u001b[0m\u001b[1;33m,\u001b[0m \u001b[1;33m[\u001b[0m\u001b[1;36m5\u001b[0m\u001b[1;33m,\u001b[0m\u001b[1;36m6\u001b[0m\u001b[1;33m]\u001b[0m\u001b[1;33m)\u001b[0m\u001b[1;33m\u001b[0m\u001b[1;33m\u001b[0m\u001b[0m\n\u001b[0m",
      "\u001b[1;31mNameError\u001b[0m: name 'flip_chess' is not defined"
     ]
    }
   ],
   "source": [
    "board = np.array([\n",
    "        [0, 0, 0, 0, 0, 0, 0, 0],\n",
    "        [0, 0, 1, 0, 0, 0, 0, 0],\n",
    "        [0, 0, 0, 0, 0, 0, 0, 0],\n",
    "        [0, 0, 0, 0, 0, 0, 0, 0],\n",
    "        [0, 0, 0, 0, 0, 0, 0, 0],\n",
    "        [0, 0, 0, 0, 0, 0, 0, 0],\n",
    "        [0, 0, 0, 0, 0, 0, 0, 0],\n",
    "        [0, 0, 0, 0, 0, 0, 0, 0]\n",
    "    ])\n",
    "flip_chess(board, 1, [5,6])"
   ]
  },
  {
   "cell_type": "code",
   "execution_count": 13,
   "metadata": {},
   "outputs": [
    {
     "data": {
      "text/plain": [
       "array([[0, 0, 0, 0, 0, 0, 0, 0],\n",
       "       [0, 0, 1, 0, 0, 0, 0, 0],\n",
       "       [0, 0, 0, 1, 0, 0, 0, 0],\n",
       "       [0, 0, 0, 0, 1, 0, 0, 0],\n",
       "       [0, 0, 0, 0, 0, 1, 0, 0],\n",
       "       [0, 0, 0, 0, 0, 0, 1, 0],\n",
       "       [0, 0, 0, 0, 0, 0, 0, 0],\n",
       "       [0, 0, 0, 0, 0, 0, 0, 0]])"
      ]
     },
     "execution_count": 13,
     "metadata": {},
     "output_type": "execute_result"
    }
   ],
   "source": [
    "board"
   ]
  },
  {
   "cell_type": "code",
   "execution_count": 4,
   "metadata": {},
   "outputs": [
    {
     "data": {
      "text/plain": [
       "501"
      ]
     },
     "execution_count": 4,
     "metadata": {},
     "output_type": "execute_result"
    }
   ],
   "source": [
    "import numpy as np\n",
    "board = np.array([\n",
    "        [1, 0, 0, 0, 0, 0, 0, 0],\n",
    "        [0, 0, 1, 0, 0, 0, 0, 0],\n",
    "        [0, 0, 0, 0, 0, 0, 0, 0],\n",
    "        [0, 0, 0, 0, 0, 0, 0, 0],\n",
    "        [0, 0, 0, 0, 0, 0, 0, 0],\n",
    "        [0, 0, 0, 0, 0, 0, 0, 0],\n",
    "        [0, 0, 0, 0, 0, 0, 0, 0],\n",
    "        [0, 0, 0, 0, 0, 0, 0, 0]\n",
    "    ])\n",
    "Vmap = np.array([[500,-25,10,5,5,10,-25,500],\n",
    "                    [-25,-45,1,1,1,1,-45,-25],\n",
    "                    [10,1,3,2,2,3,1,10],\n",
    "                    [5,1,2,1,1,2,1,5],\n",
    "                    [5,1,2,1,1,2,1,5],\n",
    "                    [10,1,3,2,2,3,1,10],\n",
    "                    [-25,-45,1,1,1,1,-45,-25],\n",
    "                    [500,-25,10,5,5,10,-25,500]])\n",
    "\n",
    "\n",
    "sum(sum(board*Vmap))"
   ]
  },
  {
   "cell_type": "code",
   "execution_count": 30,
   "metadata": {},
   "outputs": [],
   "source": [
    "COLOR_NONE = 0\n",
    "def valid_moves(chessboard: np.ndarray, color):\n",
    "    \"\"\"\n",
    "        找到所有可能的有效下棋位置\n",
    "    Params:\n",
    "        chessboard: np.ndarray,      棋盘\n",
    "        color: int                   棋子颜色\n",
    "    Return:\n",
    "        moves: List[List[int, int]]  所有可能的有效下棋位置\n",
    "    \"\"\"\n",
    "    moves = []\n",
    "    chesses = np.argwhere(chessboard == color)\n",
    "    none_area = np.argwhere(chessboard == COLOR_NONE)\n",
    "    \n",
    "    for pos in none_area:\n",
    "        # flag用来保证越过了其他颜色的棋子\n",
    "        flag = False\n",
    "        for chess in chesses:\n",
    "            dis = chess - pos\n",
    "            if dis[0] != 0 and dis[1] != 0:\n",
    "                if abs(dis[0]) != abs(dis[1]):\n",
    "                    continue\n",
    "            times = abs(dis[0]) if dis[0] != 0 else abs(dis[1])\n",
    "            step = dis // times\n",
    "            # 不会到达chess的位置\n",
    "            for i in range(1, times):\n",
    "                now_pos = i*step + pos\n",
    "                if chessboard[now_pos[0], now_pos[1]] == -color:\n",
    "                    flag = True\n",
    "                else: # 遇到空处或者提前遇到己方棋子，不算有效\n",
    "                    flag = False\n",
    "                    break\n",
    "            if flag: # 找到就溜\n",
    "                moves.append(pos)\n",
    "                break\n",
    "\n",
    "    return moves"
   ]
  },
  {
   "cell_type": "code",
   "execution_count": 48,
   "metadata": {},
   "outputs": [],
   "source": [
    "chessboard_size = 8\n",
    "COLOR_NONE = 0\n",
    "def in_chessboard(idx) -> bool:\n",
    "    return idx[0] >= 0 and idx[0] < chessboard_size and idx[1] >= 0 and idx[1] < chessboard_size\n",
    "def stable_value(chessboard: np.ndarray, color):\n",
    "    stable = [0, 0, 0]  # 角，边，中心。中心的稳定子只计算了部分\n",
    "    stable_pos = set()  # 角、边的稳定子\n",
    "    corners = [(0, 0), (0, 7), (7, 0), (7, 7)]\n",
    "    direc1 = [(1, 0), (0, -1), (0, 1), (-1, 0)]\n",
    "    direc2 = [(0, 1), (1, 0), (-1, 0), (0, -1)]\n",
    "    for i in range(4):\n",
    "        cor: tuple = corners[i]\n",
    "        # 角\n",
    "        if chessboard[cor[0], cor[1]] == color:\n",
    "            stable[0] += 1\n",
    "            # 边，两个方向\n",
    "            for j in range(1, 7):\n",
    "                pos = (cor[0]+j*direc1[i][0], cor[1]+j*direc1[i][1])\n",
    "                if chessboard[pos[0], pos[1]] == color:\n",
    "                    stable[1] += 1\n",
    "                    stable_pos.add(pos)\n",
    "                else:\n",
    "                    break\n",
    "            for j in range(1, 7):\n",
    "                pos = (cor[0]+j*direc2[i][0], cor[1]+j*direc2[i][1])\n",
    "                if chessboard[pos[0], pos[1]] == color:\n",
    "                    stable[1] += 1\n",
    "                    stable_pos.add(pos)\n",
    "                else:\n",
    "                    break\n",
    "    inner_stable = np.zeros((8, 8), dtype=bool)\n",
    "    inner_stable[:, np.sum(abs(chessboard), axis=0) == 8] = True  # 列\n",
    "    inner_stable[np.sum(abs(chessboard), axis=1) == 8, :] &= True  # 行\n",
    "    # 斜线\n",
    "    inner_stable_chess = np.argwhere(inner_stable == True)\n",
    "    diag_direc = [(1, 1), (1, -1), (-1, 1), (-1, -1)]\n",
    "\n",
    "    if len(inner_stable) == 0:\n",
    "        return stable\n",
    "\n",
    "    for chess in inner_stable_chess:\n",
    "        if (chess[0], chess[1]) in stable_pos:\n",
    "            continue\n",
    "        for dd in diag_direc:\n",
    "            pos = chess + dd\n",
    "            flag = False\n",
    "            while in_chessboard(pos):\n",
    "                if chessboard[pos[0], pos[1]] == COLOR_NONE:\n",
    "                    inner_stable[chess[0], chess[1]] = False\n",
    "                    flag = True\n",
    "                    break\n",
    "                pos += dd\n",
    "            if flag:\n",
    "                break\n",
    "                \n",
    "    stable[2] = sum(sum(inner_stable))\n",
    "    return stable"
   ]
  },
  {
   "cell_type": "code",
   "execution_count": 49,
   "metadata": {},
   "outputs": [
    {
     "data": {
      "text/plain": [
       "[1, 3, 2]"
      ]
     },
     "execution_count": 49,
     "metadata": {},
     "output_type": "execute_result"
    }
   ],
   "source": [
    "import numpy as np\n",
    "board = np.array([\n",
    "        [1, 1, 1, 0, 0, 0, 0, 0],\n",
    "        [1, 1, 1, 1, 1, 1, 1, 1],\n",
    "        [0, -1, -1, 0, 0, 0, 0, 0],\n",
    "        [0, -1, 1, 1, 1, 0, 0, 0],\n",
    "        [0, -1, 1, -1, -1, 0, 0, 0],\n",
    "        [0, -1, 1, 0, 0, 1, 0, 0],\n",
    "        [0, -1, -1, 0, 0, 0, 1, 0],\n",
    "        [0, -1, 1, 0, 0, 0, 0, -1]\n",
    "    ])\n",
    "stable_value(board, 1)"
   ]
  },
  {
   "cell_type": "code",
   "execution_count": 32,
   "metadata": {},
   "outputs": [
    {
     "data": {
      "text/plain": [
       "array([2, 4])"
      ]
     },
     "execution_count": 32,
     "metadata": {},
     "output_type": "execute_result"
    }
   ],
   "source": [
    "np.array([1,2])+(1,2)"
   ]
  },
  {
   "cell_type": "code",
   "execution_count": 31,
   "metadata": {},
   "outputs": [
    {
     "data": {
      "text/plain": [
       "[array([2, 4], dtype=int64),\n",
       " array([4, 2], dtype=int64),\n",
       " array([7, 7], dtype=int64)]"
      ]
     },
     "execution_count": 31,
     "metadata": {},
     "output_type": "execute_result"
    }
   ],
   "source": [
    "board = np.array([\n",
    "        [0, 0, 0, 0, 0, 0, 0, 0],\n",
    "        [0, 0, 0, 0, 0, 0, 0, 0],\n",
    "        [0, 0, -1, 0, 0, 0, 0, 0],\n",
    "        [0, 0, 0, 1, 1, 0, 0, 0],\n",
    "        [0, 0, 0, 1, -1, 0, 0, 0],\n",
    "        [0, 0, 0, 0, 0, 1, 0, 0],\n",
    "        [0, 0, 0, 0, 0, 0, 1, 0],\n",
    "        [0, 0, 0, 0, 0, 0, 0, 0]\n",
    "    ])\n",
    "\n",
    "valid_moves(board, -1)"
   ]
  },
  {
   "cell_type": "code",
   "execution_count": 23,
   "metadata": {},
   "outputs": [],
   "source": [
    "a = set()\n",
    "a.add((0,1))\n",
    "a.add((0,1))"
   ]
  },
  {
   "cell_type": "code",
   "execution_count": 2,
   "metadata": {},
   "outputs": [
    {
     "data": {
      "text/plain": [
       "False"
      ]
     },
     "execution_count": 2,
     "metadata": {},
     "output_type": "execute_result"
    }
   ],
   "source": [
    "b = None\n",
    "b is not None"
   ]
  },
  {
   "cell_type": "code",
   "execution_count": 4,
   "metadata": {},
   "outputs": [
    {
     "data": {
      "text/plain": [
       "[(0, 1), (0, -1), (1, 0), (-1, 0), (1, 1), (1, -1), (-1, 1), (-1, -1)]"
      ]
     },
     "execution_count": 4,
     "metadata": {},
     "output_type": "execute_result"
    }
   ],
   "source": [
    "first_moves  = [[0,1], [0,-1], [1,0], [-1,0], [1,1], [1,-1], [-1,1], [-1,-1]]\n",
    "list(map(lambda idx: (idx[0], idx[1]), first_moves))"
   ]
  },
  {
   "cell_type": "code",
   "execution_count": 4,
   "metadata": {},
   "outputs": [
    {
     "data": {
      "text/plain": [
       "['009.jpg', '010.jpg', '024.jpg', '123.jpg', '234.jpg']"
      ]
     },
     "execution_count": 4,
     "metadata": {},
     "output_type": "execute_result"
    }
   ],
   "source": [
    "las = ['123.jpg', '234.jpg', '024.jpg', '010.jpg', '009.jpg']\n",
    "las.sort()\n",
    "# las.sort(key=lambda x: int())\n",
    "las"
   ]
  },
  {
   "cell_type": "code",
   "execution_count": null,
   "metadata": {},
   "outputs": [],
   "source": [
    "file = open('sa','wb')\n",
    "file.write"
   ]
  },
  {
   "cell_type": "code",
   "execution_count": 4,
   "metadata": {},
   "outputs": [],
   "source": [
    "class Node:\n",
    "    def __init__(self, color, parent=None, action=None):\n",
    "        self.color: int = color\n",
    "        self.parent = parent\n",
    "        self.children = {}\n",
    "        self.Q: int = 0 # 价值\n",
    "        self.N: int = 0 # 访问次数\n",
    "\n",
    "n1 = Node(1)\n",
    "n2 = Node(-1)\n",
    "n3 = Node(-1)\n",
    "n4 = Node(-1)\n",
    "n5 = Node(-1)\n",
    "n6 = Node(-1)\n",
    "\n",
    "for x, y, n in [[0,1, n2], [0,-1,n3], [1,0,n4], [-1,0,n5], [1,1,n6]]:\n",
    "    n1.children[n] = (x,y)"
   ]
  },
  {
   "cell_type": "code",
   "execution_count": 5,
   "metadata": {},
   "outputs": [],
   "source": [
    "chromosomes = ['AGCTACTGACTG', 'ACCGACTG']\n",
    "GC_content = [0 for _ in range(len(chromosomes))]\n",
    "\n",
    "for i, chromo in enumerate(chromosomes):\n",
    "    c_cnt = chromo.count('C')\n",
    "    g_cnt = chromo.count('G')\n",
    "    GC_content[i] = (c_cnt + g_cnt) / len(chromo)\n",
    "\n",
    "ORF_st = 'AUG'\n",
    "ORF_ed = ['UAA', 'UAG', 'UGA']\n",
    "ORF_cnt = [0 for _ in range(len(chromosomes))]\n",
    "for i, chromo in enumerate(chromosomes):\n",
    "    for j in range(0, len(chromo), 3):\n",
    "        codon = chromo[j: j+3]\n",
    "        if codon in ORF_ed:\n",
    "            ORF_cnt[i] += 1\n",
    "\n",
    "\n",
    "HBB = 'ACTGAGTCA'\n",
    "HBB_pos = [0 for _ in range(len(chromosomes))]\n",
    "for i, chromo in enumerate(chromosomes):\n",
    "    HBB_pos[i] = chromo.find(HBB)"
   ]
  },
  {
   "cell_type": "code",
   "execution_count": 3,
   "metadata": {},
   "outputs": [
    {
     "data": {
      "text/plain": [
       "(8, 8)"
      ]
     },
     "execution_count": 3,
     "metadata": {},
     "output_type": "execute_result"
    }
   ],
   "source": [
    "import numpy as np\n",
    "\n",
    "a = np.array([\n",
    "    [1,5,3,3,3,3,5,1],\n",
    "    [5,5,4,4,4,4,5,5],\n",
    "    [3,4,2,2,2,2,4,3],\n",
    "    [3,4,2,0,0,2,4,3],\n",
    "    [3,4,2,0,0,2,4,3],\n",
    "    [3,4,2,2,2,2,4,3],\n",
    "    [5,5,4,4,4,4,5,5],\n",
    "    [1,5,3,3,3,3,5,1],\n",
    "]).shape"
   ]
  },
  {
   "cell_type": "code",
   "execution_count": null,
   "metadata": {},
   "outputs": [],
   "source": [
    "import time\n",
    "print('Start ...')\n",
    "print('next move is (2,3)')\n",
    "print('time taken ')"
   ]
  }
 ],
 "metadata": {
  "kernelspec": {
   "display_name": "Python 3.8.8 ('base')",
   "language": "python",
   "name": "python3"
  },
  "language_info": {
   "codemirror_mode": {
    "name": "ipython",
    "version": 3
   },
   "file_extension": ".py",
   "mimetype": "text/x-python",
   "name": "python",
   "nbconvert_exporter": "python",
   "pygments_lexer": "ipython3",
   "version": "3.8.8"
  },
  "orig_nbformat": 4,
  "vscode": {
   "interpreter": {
    "hash": "5179d32cf6ec497baf3f8a3ef987cc77c5d2dc691fdde20a56316522f61a7323"
   }
  }
 },
 "nbformat": 4,
 "nbformat_minor": 2
}
