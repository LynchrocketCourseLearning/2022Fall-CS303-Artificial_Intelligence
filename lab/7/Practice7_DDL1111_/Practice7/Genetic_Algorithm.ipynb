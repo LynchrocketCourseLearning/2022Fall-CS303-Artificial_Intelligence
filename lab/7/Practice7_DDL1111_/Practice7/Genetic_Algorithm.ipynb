{
 "cells": [
  {
   "cell_type": "code",
   "execution_count": 1,
   "metadata": {
    "pycharm": {
     "name": "#%%\n"
    }
   },
   "outputs": [],
   "source": [
    "%load_ext autoreload\n",
    "%autoreload 2\n",
    "import random\n",
    "import numpy as np\n",
    "import matplotlib.pyplot as plt\n",
    "from utils import plot_NQueens, plot_evolution"
   ]
  },
  {
   "cell_type": "markdown",
   "metadata": {
    "pycharm": {
     "name": "#%% md\n"
    }
   },
   "source": [
    "# Local Search: Genetic Algorithm\n",
    "\n",
    "## 1.Genrating Phrases\n",
    "\n",
    "In this section we consider a toy problem: generating a target phrases (e.g. \"genetic algorithm\") from an initial polupation of random strings. Assume the length of the target is known.\n",
    "\n",
    "Problem Formulation: \n",
    "\n",
    "1. Direct Representation: just strings.\n",
    "2. Exponential Search Space: $m^l$ where $m$ is the size of the alphabet (set of characters in our interest) and $l$ is the length of the string.\n",
    "\n",
    "Now that we want to solve it with GA:\n",
    "1. Chromesome: directly use the string itself.\n",
    "2. Fitness: how match/close an individual is to the target.\n",
    "3. Mating: combine two strings in someway to generate a new one.\n",
    "\n",
    "The following cells will walk you through this problem to show the basic idea of GA"
   ]
  },
  {
   "cell_type": "code",
   "execution_count": 2,
   "metadata": {
    "pycharm": {
     "name": "#%%\n"
    }
   },
   "outputs": [
    {
     "data": {
      "text/plain": [
       "['nwusAVReMsDZyzqUx',\n",
       " 'xfhprky QCfvlgjaF',\n",
       " 'QMKJuejre bibfk g',\n",
       " 'oHMeWkzkglPaympAV',\n",
       " 'lIxWuFbTSwSLLMUyF',\n",
       " 'euYPWHEsxNbmRmZyw',\n",
       " 'irPmWScQINyHDAuNn',\n",
       " 'cebDXiCXMQefFvdoC',\n",
       " 'RdAtxhVGxOEgFsZT ',\n",
       " 'tKCuXkyWtZUeCjZS ']"
      ]
     },
     "execution_count": 2,
     "metadata": {},
     "output_type": "execute_result"
    }
   ],
   "source": [
    "# setting up the problem\n",
    "target = 'Genetic Algorithm'\n",
    "u_case = [chr(x) for x in range(65, 91)]\n",
    "l_case = [chr(x) for x in range(97, 123)]\n",
    "gene_pool = u_case + l_case + [' '] # all English chracters and white space\n",
    "\n",
    "def init_population(pop_size, gene_pool, state_length):\n",
    "    \"\"\"\n",
    "    Randomly initialize a population for genetic algorithm\n",
    "        pop_size  :  Number of individuals in population\n",
    "        gene_pool   :  List of possible values for individuals\n",
    "        state_length:  The length of each individual\n",
    "    \"\"\"\n",
    "\n",
    "    population = []\n",
    "    for _ in range(pop_size):\n",
    "        new_individual = \"\".join(random.choices(gene_pool, k=state_length))\n",
    "        population.append(new_individual)\n",
    "\n",
    "    return population\n",
    "\n",
    "# test\n",
    "init_pop = init_population(10, gene_pool, len(target))\n",
    "init_pop"
   ]
  },
  {
   "cell_type": "code",
   "execution_count": 3,
   "metadata": {
    "pycharm": {
     "name": "#%%\n"
    }
   },
   "outputs": [
    {
     "data": {
      "text/plain": [
       "0"
      ]
     },
     "execution_count": 3,
     "metadata": {},
     "output_type": "execute_result"
    }
   ],
   "source": [
    "def fitness_fn(sample):\n",
    "    # TODO: evaluate how close *sample* is to the target\n",
    "    fx = 0\n",
    "    for i in range(len(sample)):\n",
    "        fx += (1 if sample[i] == target[i] else 0)\n",
    "    return fx\n",
    "\n",
    "# test\n",
    "fitness_fn(init_pop[0])"
   ]
  },
  {
   "cell_type": "code",
   "execution_count": 29,
   "metadata": {
    "pycharm": {
     "name": "#%%\n"
    }
   },
   "outputs": [
    {
     "data": {
      "text/plain": [
       "['KuezSct IAHjLPrny', 'KuezSct IAHjLPrny']"
      ]
     },
     "execution_count": 29,
     "metadata": {},
     "output_type": "execute_result"
    }
   ],
   "source": [
    "def select(r, population, fitness_fn):\n",
    "    \"\"\"\n",
    "    TODO: select *r* samples from *population*\n",
    "    the simplest choice is to sample from *population* with each individual weighted by its fitness\n",
    "    \"\"\"\n",
    "    fitnesses = {}\n",
    "    for p in population:\n",
    "        tmp = fitness_fn(p)\n",
    "        fitnesses[p] = tmp\n",
    "    t = sorted(fitnesses.items(), key=lambda x: x[1], reverse=True)    \n",
    "    # return (res[0][0], res[1][0])\n",
    "    fitnesses = []\n",
    "    fitnesses.append(fitness_fn(population[0]))\n",
    "    for i in range(len(population)-1):\n",
    "\n",
    "        fitnesses.append(fitnesses[i] + fitness_fn(population[i+1]))\n",
    "\n",
    "    res = []\n",
    "    for _ in range(r):\n",
    "        idx = random.randint(0, fitnesses[-1])\n",
    "        for i in range(len(fitnesses)-1):\n",
    "            if fitnesses[i] <= idx < fitnesses[i + 1]:\n",
    "                res.append(population[i])\n",
    "                break\n",
    "\n",
    "    if len(res) < r:\n",
    "        for i in range(r-len(res)):\n",
    "            if len(t) < r-len(res) : print(t)\n",
    "            res.append(t[i][0])\n",
    "\n",
    "    return res\n",
    "\n",
    "# test\n",
    "parents = select(2, init_pop, fitness_fn)\n",
    "parents"
   ]
  },
  {
   "cell_type": "code",
   "execution_count": 5,
   "metadata": {
    "pycharm": {
     "name": "#%%\n"
    }
   },
   "outputs": [
    {
     "data": {
      "text/plain": [
       "'zYznkgsuRmTdhIfjW'"
      ]
     },
     "execution_count": 5,
     "metadata": {},
     "output_type": "execute_result"
    }
   ],
   "source": [
    "def recombine(x, y):\n",
    "    \"\"\"\n",
    "    TODO: combine two parents to produce an offspring\n",
    "    \"\"\"\n",
    "    c = random.randrange(0, len(x))\n",
    "    return x[:c] + y[c:]\n",
    "\n",
    "def mutate(x, gene_pool, pmut):\n",
    "    \"\"\"\n",
    "    apply mutation to *x* by randomly replacing one of its gene from *gene_pool*\n",
    "    \"\"\"\n",
    "    if random.uniform(0, 1) >= pmut:\n",
    "        return x\n",
    "\n",
    "    n = len(x)\n",
    "    g = len(gene_pool)\n",
    "    c = random.randrange(0, n)\n",
    "    r = random.randrange(0, g)\n",
    "\n",
    "    new_gene = gene_pool[r]\n",
    "    return x[:c] + new_gene + x[c + 1:]\n",
    "\n",
    "# test\n",
    "child = mutate(recombine(*parents), gene_pool, 0.1)\n",
    "child"
   ]
  },
  {
   "cell_type": "code",
   "execution_count": 20,
   "metadata": {
    "pycharm": {
     "name": "#%%\n"
    }
   },
   "outputs": [],
   "source": [
    "# now refactor things into a *Problem* abstraction\n",
    "# you can directly reuse what you have implemented above\n",
    "from abc import ABC, abstractmethod\n",
    "\n",
    "class GAProblem(ABC):\n",
    "    @abstractmethod\n",
    "    def init_population(self, pop_size): pass\n",
    "\n",
    "    @abstractmethod\n",
    "    def fitness(self, sample): pass\n",
    "\n",
    "    @abstractmethod\n",
    "    def reproduce(self, population, mutation_rate): pass\n",
    "\n",
    "    @abstractmethod\n",
    "    def replacement(self, old, new): pass\n",
    "\n",
    "class PhraseGeneration(GAProblem):\n",
    "    def __init__(self, target, alphabet):\n",
    "        self.target = target\n",
    "        self.alphabet = alphabet\n",
    "\n",
    "    def init_population(self, pop_size):\n",
    "        # raise NotImplementedError()\n",
    "        return init_population(pop_size, self.alphabet, len(self.target))\n",
    "\n",
    "    def fitness(self, sample):\n",
    "        # TODO: evaluate how close *sample* is to the target\n",
    "        # raise NotImplementedError()\n",
    "        return fitness_fn(sample)\n",
    "    \n",
    "    def reproduce(self, population, mutation_rate):\n",
    "        \"\"\"\n",
    "        TODO: generate the next generation of population\n",
    "\n",
    "        hint: make a new individual with \n",
    "        \n",
    "        mutate(recombine(*select(2, population, fitness_fn)), gene_pool, pmut)\n",
    "\n",
    "        \"\"\"\n",
    "        # raise NotImplementedError()\n",
    "        tmp = select(2, population, fitness_fn)\n",
    "        return mutate(recombine(*tmp), gene_pool, mutation_rate)\n",
    "    \n",
    "    def replacement(self, old, new):\n",
    "        \"\"\"\n",
    "        You can use your own strategy, for example retain some solutions from the old population\n",
    "        \"\"\"\n",
    "        return new\n",
    "\n",
    "def genetic_algorithm(\n",
    "        problem: GAProblem, \n",
    "        ngen, n_init_size, mutation_rate, \n",
    "        log_intervel=100\n",
    "    ):\n",
    "\n",
    "    population = problem.init_population(n_init_size)\n",
    "    best = max(population, key=problem.fitness)\n",
    "    history = [(0, list(map(problem.fitness, population)))]\n",
    "\n",
    "    for gen in range(ngen):\n",
    "        next_gen    = problem.reproduce(population, mutation_rate)\n",
    "        population  = problem.replacement(population, next_gen)\n",
    "\n",
    "        if gen % log_intervel == 0:\n",
    "            current_best = max(population, key=problem.fitness)\n",
    "            if problem.fitness(current_best) > problem.fitness(best): best = current_best\n",
    "            print(f\"Generation: {gen}/{ngen},\\tBest: {best},\\tFitness={problem.fitness(best)}\")         \n",
    "            history.append((gen, list(map(problem.fitness, population))))\n",
    "    \n",
    "    history.append((ngen-1, list(map(problem.fitness, population))))\n",
    "    return best, history"
   ]
  },
  {
   "cell_type": "code",
   "execution_count": 30,
   "metadata": {
    "pycharm": {
     "name": "#%%\n"
    }
   },
   "outputs": [
    {
     "name": "stdout",
     "output_type": "stream",
     "text": [
      "Generation: 0/1200,\tBest: RHruIBGse1Ei4IG4c BND1XQtnAMm,\tFitness=2\n",
      "[('z', 0)]\n"
     ]
    },
    {
     "ename": "IndexError",
     "evalue": "list index out of range",
     "output_type": "error",
     "traceback": [
      "\u001b[1;31m---------------------------------------------------------------------------\u001b[0m",
      "\u001b[1;31mIndexError\u001b[0m                                Traceback (most recent call last)",
      "\u001b[1;32m<ipython-input-30-087eb6491fcd>\u001b[0m in \u001b[0;36m<module>\u001b[1;34m\u001b[0m\n\u001b[0;32m     14\u001b[0m \u001b[1;33m\u001b[0m\u001b[0m\n\u001b[0;32m     15\u001b[0m \u001b[1;31m# and run it\u001b[0m\u001b[1;33m\u001b[0m\u001b[1;33m\u001b[0m\u001b[1;33m\u001b[0m\u001b[0m\n\u001b[1;32m---> 16\u001b[1;33m \u001b[0msolution\u001b[0m\u001b[1;33m,\u001b[0m \u001b[0mhistory\u001b[0m \u001b[1;33m=\u001b[0m \u001b[0mgenetic_algorithm\u001b[0m\u001b[1;33m(\u001b[0m\u001b[0mproblem\u001b[0m\u001b[1;33m,\u001b[0m \u001b[0mngen\u001b[0m\u001b[1;33m,\u001b[0m \u001b[0mmax_population\u001b[0m\u001b[1;33m,\u001b[0m \u001b[0mmutation_rate\u001b[0m\u001b[1;33m)\u001b[0m\u001b[1;33m\u001b[0m\u001b[1;33m\u001b[0m\u001b[0m\n\u001b[0m\u001b[0;32m     17\u001b[0m \u001b[0msolution\u001b[0m\u001b[1;33m\u001b[0m\u001b[1;33m\u001b[0m\u001b[0m\n",
      "\u001b[1;32m<ipython-input-20-b1845b361161>\u001b[0m in \u001b[0;36mgenetic_algorithm\u001b[1;34m(problem, ngen, n_init_size, mutation_rate, log_intervel)\u001b[0m\n\u001b[0;32m     60\u001b[0m \u001b[1;33m\u001b[0m\u001b[0m\n\u001b[0;32m     61\u001b[0m     \u001b[1;32mfor\u001b[0m \u001b[0mgen\u001b[0m \u001b[1;32min\u001b[0m \u001b[0mrange\u001b[0m\u001b[1;33m(\u001b[0m\u001b[0mngen\u001b[0m\u001b[1;33m)\u001b[0m\u001b[1;33m:\u001b[0m\u001b[1;33m\u001b[0m\u001b[1;33m\u001b[0m\u001b[0m\n\u001b[1;32m---> 62\u001b[1;33m         \u001b[0mnext_gen\u001b[0m    \u001b[1;33m=\u001b[0m \u001b[0mproblem\u001b[0m\u001b[1;33m.\u001b[0m\u001b[0mreproduce\u001b[0m\u001b[1;33m(\u001b[0m\u001b[0mpopulation\u001b[0m\u001b[1;33m,\u001b[0m \u001b[0mmutation_rate\u001b[0m\u001b[1;33m)\u001b[0m\u001b[1;33m\u001b[0m\u001b[1;33m\u001b[0m\u001b[0m\n\u001b[0m\u001b[0;32m     63\u001b[0m         \u001b[0mpopulation\u001b[0m  \u001b[1;33m=\u001b[0m \u001b[0mproblem\u001b[0m\u001b[1;33m.\u001b[0m\u001b[0mreplacement\u001b[0m\u001b[1;33m(\u001b[0m\u001b[0mpopulation\u001b[0m\u001b[1;33m,\u001b[0m \u001b[0mnext_gen\u001b[0m\u001b[1;33m)\u001b[0m\u001b[1;33m\u001b[0m\u001b[1;33m\u001b[0m\u001b[0m\n\u001b[0;32m     64\u001b[0m \u001b[1;33m\u001b[0m\u001b[0m\n",
      "\u001b[1;32m<ipython-input-20-b1845b361161>\u001b[0m in \u001b[0;36mreproduce\u001b[1;34m(self, population, mutation_rate)\u001b[0m\n\u001b[0;32m     40\u001b[0m         \"\"\"\n\u001b[0;32m     41\u001b[0m         \u001b[1;31m# raise NotImplementedError()\u001b[0m\u001b[1;33m\u001b[0m\u001b[1;33m\u001b[0m\u001b[1;33m\u001b[0m\u001b[0m\n\u001b[1;32m---> 42\u001b[1;33m         \u001b[0mtmp\u001b[0m \u001b[1;33m=\u001b[0m \u001b[0mselect\u001b[0m\u001b[1;33m(\u001b[0m\u001b[1;36m2\u001b[0m\u001b[1;33m,\u001b[0m \u001b[0mpopulation\u001b[0m\u001b[1;33m,\u001b[0m \u001b[0mfitness_fn\u001b[0m\u001b[1;33m)\u001b[0m\u001b[1;33m\u001b[0m\u001b[1;33m\u001b[0m\u001b[0m\n\u001b[0m\u001b[0;32m     43\u001b[0m         \u001b[1;32mreturn\u001b[0m \u001b[0mmutate\u001b[0m\u001b[1;33m(\u001b[0m\u001b[0mrecombine\u001b[0m\u001b[1;33m(\u001b[0m\u001b[1;33m*\u001b[0m\u001b[0mtmp\u001b[0m\u001b[1;33m)\u001b[0m\u001b[1;33m,\u001b[0m \u001b[0mgene_pool\u001b[0m\u001b[1;33m,\u001b[0m \u001b[0mmutation_rate\u001b[0m\u001b[1;33m)\u001b[0m\u001b[1;33m\u001b[0m\u001b[1;33m\u001b[0m\u001b[0m\n\u001b[0;32m     44\u001b[0m \u001b[1;33m\u001b[0m\u001b[0m\n",
      "\u001b[1;32m<ipython-input-29-a75ec694c504>\u001b[0m in \u001b[0;36mselect\u001b[1;34m(r, population, fitness_fn)\u001b[0m\n\u001b[0;32m     27\u001b[0m         \u001b[1;32mfor\u001b[0m \u001b[0mi\u001b[0m \u001b[1;32min\u001b[0m \u001b[0mrange\u001b[0m\u001b[1;33m(\u001b[0m\u001b[0mr\u001b[0m\u001b[1;33m-\u001b[0m\u001b[0mlen\u001b[0m\u001b[1;33m(\u001b[0m\u001b[0mres\u001b[0m\u001b[1;33m)\u001b[0m\u001b[1;33m)\u001b[0m\u001b[1;33m:\u001b[0m\u001b[1;33m\u001b[0m\u001b[1;33m\u001b[0m\u001b[0m\n\u001b[0;32m     28\u001b[0m             \u001b[1;32mif\u001b[0m \u001b[0mlen\u001b[0m\u001b[1;33m(\u001b[0m\u001b[0mt\u001b[0m\u001b[1;33m)\u001b[0m \u001b[1;33m<\u001b[0m \u001b[0mr\u001b[0m\u001b[1;33m-\u001b[0m\u001b[0mlen\u001b[0m\u001b[1;33m(\u001b[0m\u001b[0mres\u001b[0m\u001b[1;33m)\u001b[0m \u001b[1;33m:\u001b[0m \u001b[0mprint\u001b[0m\u001b[1;33m(\u001b[0m\u001b[0mt\u001b[0m\u001b[1;33m)\u001b[0m\u001b[1;33m\u001b[0m\u001b[1;33m\u001b[0m\u001b[0m\n\u001b[1;32m---> 29\u001b[1;33m             \u001b[0mres\u001b[0m\u001b[1;33m.\u001b[0m\u001b[0mappend\u001b[0m\u001b[1;33m(\u001b[0m\u001b[0mt\u001b[0m\u001b[1;33m[\u001b[0m\u001b[0mi\u001b[0m\u001b[1;33m]\u001b[0m\u001b[1;33m[\u001b[0m\u001b[1;36m0\u001b[0m\u001b[1;33m]\u001b[0m\u001b[1;33m)\u001b[0m\u001b[1;33m\u001b[0m\u001b[1;33m\u001b[0m\u001b[0m\n\u001b[0m\u001b[0;32m     30\u001b[0m \u001b[1;33m\u001b[0m\u001b[0m\n\u001b[0;32m     31\u001b[0m     \u001b[1;32mreturn\u001b[0m \u001b[0mres\u001b[0m\u001b[1;33m\u001b[0m\u001b[1;33m\u001b[0m\u001b[0m\n",
      "\u001b[1;31mIndexError\u001b[0m: list index out of range"
     ]
    }
   ],
   "source": [
    "# now set up the parameters\n",
    "ngen = 1200\n",
    "max_population = 120\n",
    "mutation_rate = 0.08\n",
    "\n",
    "sid = 12011327 #TODO:  replace this with your own sid\n",
    "target = f\"Genetic Algorithm by {sid}\"\n",
    "\n",
    "u_case = [chr(x) for x in range(65, 91)]\n",
    "l_case = [chr(x) for x in range(97, 123)]\n",
    "alphabet = u_case + l_case + [' '] + [str(x) for x in range(0, 10)] # TODO: fix this: what is the search space now?\n",
    "\n",
    "problem = PhraseGeneration(target, alphabet)\n",
    "\n",
    "# and run it\n",
    "solution, history = genetic_algorithm(problem, ngen, max_population, mutation_rate)\n",
    "solution"
   ]
  },
  {
   "cell_type": "code",
   "execution_count": 24,
   "metadata": {
    "pycharm": {
     "name": "#%%\n"
    }
   },
   "outputs": [
    {
     "ename": "AttributeError",
     "evalue": "'PhraseGeneration' object has no attribute 'max_fitness'",
     "output_type": "error",
     "traceback": [
      "\u001b[1;31m---------------------------------------------------------------------------\u001b[0m",
      "\u001b[1;31mAttributeError\u001b[0m                            Traceback (most recent call last)",
      "\u001b[1;32m<ipython-input-24-d061cf472fe3>\u001b[0m in \u001b[0;36m<module>\u001b[1;34m\u001b[0m\n\u001b[0;32m      1\u001b[0m \u001b[1;31m# visualize the evolution of the polulation\u001b[0m\u001b[1;33m\u001b[0m\u001b[1;33m\u001b[0m\u001b[1;33m\u001b[0m\u001b[0m\n\u001b[1;32m----> 2\u001b[1;33m \u001b[0mbins\u001b[0m \u001b[1;33m=\u001b[0m \u001b[0mnp\u001b[0m\u001b[1;33m.\u001b[0m\u001b[0mlinspace\u001b[0m\u001b[1;33m(\u001b[0m\u001b[1;36m0\u001b[0m\u001b[1;33m,\u001b[0m \u001b[0mproblem\u001b[0m\u001b[1;33m.\u001b[0m\u001b[0mmax_fitness\u001b[0m\u001b[1;33m,\u001b[0m \u001b[0mproblem\u001b[0m\u001b[1;33m.\u001b[0m\u001b[0mmax_fitness\u001b[0m\u001b[1;33m+\u001b[0m\u001b[1;36m1\u001b[0m\u001b[1;33m)\u001b[0m\u001b[1;33m\u001b[0m\u001b[1;33m\u001b[0m\u001b[0m\n\u001b[0m\u001b[0;32m      3\u001b[0m \u001b[0mplot_evolution\u001b[0m\u001b[1;33m(\u001b[0m\u001b[0mhistory\u001b[0m\u001b[1;33m,\u001b[0m \u001b[0mbins\u001b[0m\u001b[1;33m)\u001b[0m\u001b[1;33m\u001b[0m\u001b[1;33m\u001b[0m\u001b[0m\n\u001b[0;32m      4\u001b[0m \u001b[0mbins\u001b[0m\u001b[1;33m\u001b[0m\u001b[1;33m\u001b[0m\u001b[0m\n",
      "\u001b[1;31mAttributeError\u001b[0m: 'PhraseGeneration' object has no attribute 'max_fitness'"
     ]
    }
   ],
   "source": [
    "# visualize the evolution of the polulation\n",
    "bins = np.linspace(0, problem.max_fitness, problem.max_fitness+1)\n",
    "plot_evolution(history, bins)\n",
    "bins"
   ]
  },
  {
   "cell_type": "markdown",
   "metadata": {
    "pycharm": {
     "name": "#%% md\n"
    }
   },
   "source": [
    "## 2. N-Queens Problem\n",
    "\n",
    "It is possible to solve the N-Queens problem with slight modifications.\n",
    "\n",
    "For the problem:\n",
    "\n",
    "1. Direct Representation: placement of queens.\n",
    "2. Search Space: $n^n$, if we don't use any constraints.\n",
    "\n",
    "To use GA:\n",
    "\n",
    "Actually a new fitness function is the minimum modification you need for this problem.\n",
    "\n",
    "Others are alomost the same as the previous problem."
   ]
  },
  {
   "cell_type": "code",
   "execution_count": null,
   "metadata": {
    "pycharm": {
     "name": "#%%\n"
    }
   },
   "outputs": [],
   "source": [
    "class NQueensProblem(GAProblem):\n",
    "    def __init__(self, n):\n",
    "        self.n = n\n",
    "        self.max_fitness =  n*(n-1)//2 # max number if non-attacking pairs\n",
    "\n",
    "    def init_population(self, pop_size):\n",
    "        # TODO:alomost the same as the previous problem.\n",
    "        raise NotImplementedError()\n",
    "    \n",
    "    def fitness(self, queens):\n",
    "        \"\"\"\n",
    "        TODO\n",
    "\n",
    "        hint: count the non-attacking pairs\n",
    "        \"\"\"\n",
    "        raise NotImplementedError()\n",
    "\n",
    "    def reproduce(self, population, mutation_rate):\n",
    "        # TODO:alomost the same as the previous problem.\n",
    "        raise NotImplementedError()\n",
    "\n",
    "    def replacement(self, old, new):\n",
    "        \"\"\"\n",
    "        You can use your own strategy, for example retain some solutions from the old population\n",
    "        \"\"\"\n",
    "        return new\n",
    "\n",
    "    def __repr__(self):\n",
    "        return f\"{self.n}-Queens Problem\""
   ]
  },
  {
   "cell_type": "code",
   "execution_count": null,
   "metadata": {
    "pycharm": {
     "name": "#%%\n"
    }
   },
   "outputs": [],
   "source": [
    "from utils import plot_NQueens\n",
    "ngen = 1000\n",
    "init_size = 120\n",
    "mutation_rate = 0.08\n",
    "\n",
    "n = 8\n",
    "problem = NQueensProblem(n)\n",
    "solution, history = genetic_algorithm(problem, ngen, init_size, mutation_rate)"
   ]
  },
  {
   "cell_type": "code",
   "execution_count": null,
   "metadata": {
    "pycharm": {
     "name": "#%%\n"
    }
   },
   "outputs": [],
   "source": [
    "# Example of how to use this function\n",
    "# plot_NQueens([4, 2, 0, 6, 1, 7, 5, 3])\n",
    "# replace the parameter with your own results\n",
    "plot_NQueens(solution)"
   ]
  },
  {
   "cell_type": "code",
   "execution_count": null,
   "metadata": {
    "pycharm": {
     "name": "#%%\n"
    }
   },
   "outputs": [],
   "source": [
    "# Visualize the evolution of the polulation\n",
    "bins = np.linspace(0, problem.max_fitness, problem.max_fitness)\n",
    "plot_evolution(history, bins)"
   ]
  }
 ],
 "metadata": {
  "kernelspec": {
   "display_name": "Python 3.8.8 ('base')",
   "language": "python",
   "name": "python3"
  },
  "language_info": {
   "codemirror_mode": {
    "name": "ipython",
    "version": 3
   },
   "file_extension": ".py",
   "mimetype": "text/x-python",
   "name": "python",
   "nbconvert_exporter": "python",
   "pygments_lexer": "ipython3",
   "version": "3.8.8"
  },
  "vscode": {
   "interpreter": {
    "hash": "5179d32cf6ec497baf3f8a3ef987cc77c5d2dc691fdde20a56316522f61a7323"
   }
  }
 },
 "nbformat": 4,
 "nbformat_minor": 2
}
