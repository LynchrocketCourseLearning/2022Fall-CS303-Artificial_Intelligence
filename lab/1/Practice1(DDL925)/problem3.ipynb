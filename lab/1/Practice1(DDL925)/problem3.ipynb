{
 "cells": [
  {
   "cell_type": "markdown",
   "metadata": {},
   "source": [
    "### Snake: Simulate a snake game and print the game results.\n",
    "\n",
    "You are given a map that ‘x’ represents a rock, ‘-’represents a space, ‘#’represents the body of snake. ‘@’represent the head of the snake and a sequence of actions that ‘0,1,2,3’represent to move to up/down/left/right correspondingly for one step.\n",
    "A greedy snake starts in the map state and moves one step per unit of time according to the sequence of actions until all actions complete or fail. It will fail when the head and the stone overlap, the head goes beyond the boundary, or the head overlaps the body. \n",
    "\n",
    "#### Input\n",
    "A matrix with type char (the map). \n",
    "A sequence with type int (the motions). \n",
    "\n",
    "#### Output\n",
    "the the result of the game:\n",
    "If it failed, output the running time of the game.\n",
    "It it didn’t fail, output the final position of the head (in the form “%d, %d”)."
   ]
  },
  {
   "cell_type": "code",
   "execution_count": null,
   "metadata": {},
   "outputs": [],
   "source": [
    "\"\"\"\n",
    "Example:\n",
    "input:\n",
    "map:\n",
    "---------\n",
    "------x--\n",
    "-x-------\n",
    "---@-----\n",
    "---##----\n",
    "------x--\n",
    "--x----x-\n",
    "-x-------\n",
    "---------\n",
    "action:\n",
    "0 0 3 3 0 3 3 1 1 1 1 1 3 1 1 2 2 2 2 2\n",
    "\n",
    "output:\n",
    "7 3\n",
    "\"\"\""
   ]
  },
  {
   "cell_type": "code",
   "execution_count": 2,
   "metadata": {
    "pycharm": {
     "name": "#%%\n"
    }
   },
   "outputs": [],
   "source": [
    "# add your code here\n",
    "def snake(game_map, actions):\n",
    "    head_pos, tail_pos = (), []\n",
    "    n, m = len(game_map), len(game_map[0])\n",
    "    flag = False\n",
    "    for i in range(n):\n",
    "        if game_map[i].count('@') == 0:\n",
    "            continue\n",
    "        for j in range(m):\n",
    "            if game_map[i][j] == '@':\n",
    "                head_pos = (i, j)\n",
    "                while(True):\n",
    "                    if j - 1 >= 0 and game_map[i][j-1] == '#':\n",
    "                        tail_pos.append((i, j-1))\n",
    "                        game_map[i][j-1] = '-'\n",
    "                        j -= 1\n",
    "                        continue\n",
    "                    if j + 1 < m and game_map[i][j+1] == '#':\n",
    "                        tail_pos.append((i, j+1))\n",
    "                        game_map[i][j+1] = '-'\n",
    "                        j += 1\n",
    "                        continue\n",
    "                    if i - 1 >= 0 and game_map[i-1][j] == '#':\n",
    "                        tail_pos.append((i-1, j))\n",
    "                        game_map[i-1][j] = '-'\n",
    "                        i -= 1\n",
    "                        continue\n",
    "                    if i + 1 < n and game_map[i+1][j] == '#':\n",
    "                        tail_pos.append((i+1, j))\n",
    "                        game_map[i+1][j] = '-'\n",
    "                        i += 1\n",
    "                        continue\n",
    "                    flag = True\n",
    "                    break\n",
    "            if flag:\n",
    "                break\n",
    "        if flag:\n",
    "            break    \n",
    "    \n",
    "    time = 0\n",
    "    for act in actions:\n",
    "        if act == 0:\n",
    "            if head_pos[0]-1 < 0 or game_map[head_pos[0]-1][head_pos[1]] == 'x':\n",
    "                return time\n",
    "            tail_pos.insert(0, head_pos)\n",
    "            tail_pos.pop()\n",
    "            head_pos = (head_pos[0]-1, head_pos[1])\n",
    "        if act == 1:\n",
    "            if head_pos[0]+1 >= n or game_map[head_pos[0]+1][head_pos[1]] == 'x':\n",
    "                return time\n",
    "            tail_pos.insert(0, head_pos)\n",
    "            tail_pos.pop()\n",
    "            head_pos = (head_pos[0]+1, head_pos[1])\n",
    "        if act == 2:\n",
    "            if head_pos[1]-1 < 0 or game_map[head_pos[0]][head_pos[1]-1] == 'x':\n",
    "                return time\n",
    "            tail_pos.insert(0, head_pos)\n",
    "            tail_pos.pop()\n",
    "            head_pos = (head_pos[0], head_pos[1]-1)\n",
    "        if act == 3:\n",
    "            if head_pos[1]+1 >= m or game_map[head_pos[0]][head_pos[1]+1] == 'x':\n",
    "                return time\n",
    "            tail_pos.insert(0, head_pos)\n",
    "            tail_pos.pop()\n",
    "            head_pos = (head_pos[0], head_pos[1]+1)\n",
    "        if head_pos in tail_pos:\n",
    "            return time\n",
    "        time += 1\n",
    "\n",
    "    return head_pos"
   ]
  },
  {
   "cell_type": "code",
   "execution_count": 4,
   "metadata": {
    "pycharm": {
     "name": "#%%\n"
    }
   },
   "outputs": [
    {
     "name": "stdout",
     "output_type": "stream",
     "text": [
      "case 1\n",
      "(7, 3)\n",
      "case 2\n",
      "10\n",
      "case 3\n",
      "11\n",
      "case 4\n",
      "32\n"
     ]
    }
   ],
   "source": [
    "# test block, you may need to modify this block.\n",
    "for i in range(4):\n",
    "    test_case = i+1\n",
    "    with open(f'./test_cases/problem3/{test_case}-map.txt', 'r') as f:\n",
    "        game_map = [list(line.strip()) for line in f.readlines()]\n",
    "    # print(game_map)\n",
    "    # for i in game_map:\n",
    "    #     print(i)\n",
    "    with open(f'./test_cases/problem3/{test_case}-actions.txt', 'r') as f:\n",
    "        actions = [*map(int, f.read().split(' '))]\n",
    "    # print(actions)\n",
    "\n",
    "    print(f'case {test_case}')\n",
    "    print(snake(game_map,actions))"
   ]
  }
 ],
 "metadata": {
  "kernelspec": {
   "display_name": "Python 3.8.8 ('base')",
   "language": "python",
   "name": "python3"
  },
  "language_info": {
   "codemirror_mode": {
    "name": "ipython",
    "version": 3
   },
   "file_extension": ".py",
   "mimetype": "text/x-python",
   "name": "python",
   "nbconvert_exporter": "python",
   "pygments_lexer": "ipython3",
   "version": "3.8.8"
  },
  "vscode": {
   "interpreter": {
    "hash": "5179d32cf6ec497baf3f8a3ef987cc77c5d2dc691fdde20a56316522f61a7323"
   }
  }
 },
 "nbformat": 4,
 "nbformat_minor": 1
}
